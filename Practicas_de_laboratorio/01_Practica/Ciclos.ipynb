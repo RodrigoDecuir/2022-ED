{
 "cells": [
  {
   "cell_type": "markdown",
   "id": "7a6ea819",
   "metadata": {},
   "source": [
    "# Estructuras Discretas 2023-1 \n",
    "## Facultad de Ciencias, UNAM\n",
    "### Rodrigo André Decuir Fuentes\n",
    "<img src=\"https://d2r55xnwy6nx47.cloudfront.net/uploads/2022/08/x-ray-gammay-ray-fermi-eROSITA_W-2K.jpg\" \n",
    "     alt=\"Nadzeya Makeyeva for Quanta Magazine\"\n",
    "     width=\"150\"/>"
   ]
  },
  {
   "cell_type": "markdown",
   "id": "a29b5186",
   "metadata": {},
   "source": [
    "> ### 1. Crear una función que reciba dos números como parámetro y regrese su división. Deberán de utilizar la sentencia if para comprobar que el divisor es diferente de cero."
   ]
  },
  {
   "cell_type": "code",
   "execution_count": 83,
   "id": "8fe35aa9",
   "metadata": {},
   "outputs": [
    {
     "name": "stdout",
     "output_type": "stream",
     "text": [
      "Bienvenid@! \n",
      "Este programa te permite dividir dos números \n",
      "Digita el numerador: 23\n",
      "Digita el denominador: 12\n"
     ]
    },
    {
     "data": {
      "text/plain": [
       "'El resultado de tu división es: 1.9166666666666667'"
      ]
     },
     "execution_count": 83,
     "metadata": {},
     "output_type": "execute_result"
    }
   ],
   "source": [
    "# Se crea una función con la identidad \"DIVISION\"\n",
    "def DIVISION():\n",
    "# Definimos variables para dar la bienvenida al usuario y pedirle que ingrese los números\n",
    "    Str1 = \"Bienvenid@! \\nEste programa te permite dividir dos números \\nDigita el numerador: \"\n",
    "    Str2 = \"Digita el denominador: \"\n",
    "# Se define el tipo de variable que queremos obtener y se hace la llamada al usuario\n",
    "    Num1 = float(input(Str1))\n",
    "    Num2 = float(input(Str2)) \n",
    "# Iniciamos una sentencia if para comprobar que el divisor es diferente de cero\n",
    "# En este caso primero reviso si el divisor es cero y si no lo es: significa que es distinto de cero\n",
    "    if Num2 == 0:\n",
    "        return \"El divisor debe ser distinto de cero\"\n",
    "    else:\n",
    "        return \"El resultado de tu división es: \" + str(Num1 / Num2)\n",
    "# Llamamos la función\n",
    "DIVISION()"
   ]
  },
  {
   "cell_type": "markdown",
   "id": "67ef4eeb",
   "metadata": {},
   "source": [
    "> ### 2. Crear una función que reciba una lista de números enteros como parámetro e imprima los números pares de la lista. Deberán utilizar la sentencia for o while para recorrer la lista."
   ]
  },
  {
   "cell_type": "code",
   "execution_count": 139,
   "id": "5ce42c60",
   "metadata": {},
   "outputs": [
    {
     "name": "stdout",
     "output_type": "stream",
     "text": [
      "Bienvenid@! \n",
      "Este programa recibe números enteros y imprime números pares. \n",
      "Ingresa el primer entero: 11\n",
      "Ingresa tu segundo entero: 33\n",
      "Ingresa el tercer entero: 55\n",
      "\n",
      "No ingresaste ningún número par \n",
      "Porfavor ingresa al menos un número par\n"
     ]
    }
   ],
   "source": [
    "# Se crea una función con la identidad \"LISTA\"\n",
    "def LISTA():\n",
    "# Definimos variables para dar la bienvenida al usuario y pedirle que ingrese los números\n",
    "    Entero1 = int(input(\"Bienvenid@! \\nEste programa recibe números enteros y imprime números pares. \\nIngresa el primer entero: \"))\n",
    "    Entero2 = int(input(\"Ingresa tu segundo entero: \"))\n",
    "    Entero3 = int(input(\"Ingresa el tercer entero: \"))\n",
    "# Creamos dos variables para contener listas\n",
    "    Lista = ([Entero1, Entero2, Entero3])\n",
    "    Liston = ([])\n",
    "# Iniciamos una sentencia for para comprobar si el usuario digito algún número par\n",
    "# De ser así, vamos a tomar el par y lo vamos a meter en \"Liston\"\n",
    "    for i in Lista:\n",
    "        if i % 2 == 0:\n",
    "            Liston.append(i)\n",
    "# Comprobamos que \"Liston\" no se encuentre sin elementos\n",
    "    if len(Liston) != 0:\n",
    "        print(Liston)\n",
    "# En caso de que \"Liston\" no tenga elementos significa que el usuario no digito ningún número par\n",
    "    else:\n",
    "        print(\"\\nNo ingresaste ningún número par \\nPorfavor ingresa al menos un número par\")\n",
    "# Llamar la función\n",
    "LISTA()\n",
    "        "
   ]
  },
  {
   "cell_type": "markdown",
   "id": "4e8670a2",
   "metadata": {},
   "source": [
    "### 3. Crear una función que reciba una cadena y un caracter como parámetros, regresar True si el caracter se encuentra en la cadena; en otro caso regresar False."
   ]
  },
  {
   "cell_type": "code",
   "execution_count": null,
   "id": "436bdc67",
   "metadata": {},
   "outputs": [],
   "source": [
    "## Se crea una función con la identidad \"ESCADENA\"\n",
    "def ESCADENA():\n",
    "# Definimos variables para dar la bienvenida al usuario y pedirle que ingrese los números\n",
    "    Cadena = str(input(\"Bienvenid@! \\nEste programa te dice si un carácter se encuentra en una cadena. \\nDigita tu cadena: \"))\n",
    "    Caracter = str(input(\"Digita el carácter: \"))\n",
    "# Creamos una variable que va a almacenar el carácter -en caso de que coincida con algún carácter de la cadena-\n",
    "    Lista = []\n",
    "# Iniciamos una sentencia for para recorrer la lista\n",
    "    for cadena in Cadena:\n",
    "# Recorremos caracter por caracter\n",
    "        for caracter in cadena:\n",
    "# En caso de que el carácter exista en la cadena lo almacenamos en -Lista-\n",
    "            if caracter in Caracter != 0:\n",
    "                Lista.append(caracter)\n",
    "# Revisamos la lista \"Lista\"\n",
    "    for i in Lista:\n",
    "# En caso de que el carácter en Lista coincida con el carácter en la lista \"Caracter\", imprimimos True\n",
    "        if i == Caracter:\n",
    "            print(\"True\")\n",
    "            break;\n",
    "# En caso de que no haya una carácter en la lista \"Lista\", imprimimos \"False\"\n",
    "    else:\n",
    "        print(\"False\")   \n",
    "# Llamamos la función\n",
    "ESCADENA()"
   ]
  },
  {
   "cell_type": "markdown",
   "id": "61849bad",
   "metadata": {},
   "source": [
    "> ### 4. Crear una función que reciba una lista de números enteros como parámetro e imprima el triple de cada elemento de la lista. Deberán utilizar la sentencia for o while para recorrer la lista. "
   ]
  },
  {
   "cell_type": "code",
   "execution_count": 87,
   "id": "107348e8",
   "metadata": {},
   "outputs": [
    {
     "name": "stdout",
     "output_type": "stream",
     "text": [
      "Bienvenid@! \n",
      "Este programa triplica cada número que ingreses \n",
      "Digita el primer número: 12\n",
      "Digita el segundo número: 33\n",
      "Digita el tercer número: 22\n",
      "El triple es: 36\n",
      "El triple es: 99\n",
      "El triple es: 66\n"
     ]
    }
   ],
   "source": [
    "# Se crea una función con la identidad \"LISTA\"\n",
    "def LISTA():\n",
    "# Definimos variables para dar la bienvenida al usuario y pedirle que ingrese los números\n",
    "    a = int(input(\"Bienvenid@! \\nEste programa triplica cada número que ingreses \\nDigita el primer número: \"))\n",
    "    b = int(input(\"Digita el segundo número: \"))\n",
    "    c = int(input(\"Digita el tercer número: \"))\n",
    "# Asignamos a una variable \"Enteros\" la lista de números ingresados\n",
    "    Enteros = [a, b, c]\n",
    "# Usamos for para recorrer la lista y triplicar cada elemento de la lista\n",
    "    for i in Enteros:\n",
    "# Defino una variable para triplicar los elementos de la lista\n",
    "        x = i*3\n",
    "# Llamo la variable \"x\" y imprimo el resultado\n",
    "        print(\"El triple es: \" + str(x))\n",
    "# Llamamos la función\n",
    "LISTA()"
   ]
  },
  {
   "cell_type": "markdown",
   "id": "07507c54",
   "metadata": {},
   "source": [
    "> ### 5. Crear una función que reciba una lista de cadenas y un caracter como parámetros, utilizar la sentencia for o while para recorrer la lista, imprimir las cadenas que no tengan el caracter que se paso como parámetro."
   ]
  },
  {
   "cell_type": "code",
   "execution_count": 86,
   "id": "0baaa416",
   "metadata": {},
   "outputs": [
    {
     "name": "stdout",
     "output_type": "stream",
     "text": [
      "Bienvenid@! \n",
      "Ingresa tres cadenas y un carácter, para obtener las cadenas que no contienen tal carácter. \n",
      "Digita tu primera cadena: kasdjfalksdjf\n",
      "Digita tu segunda cadena: aksdfjalsd\n",
      "Digita tu tercera cadena: eeee\n",
      "Digita el carácter: r\n"
     ]
    },
    {
     "data": {
      "text/plain": [
       "['kasdjfalksdjf', 'aksdfjalsd', 'eeee']"
      ]
     },
     "execution_count": 86,
     "metadata": {},
     "output_type": "execute_result"
    }
   ],
   "source": [
    "# Se crea una función con la identidad \"NOCARACTER\"\n",
    "def NOCARACTER():\n",
    "# Definimos variables para dar la bienvenida al usuario y pedirle que ingrese tres cadenas y un carácter\n",
    "    a = str(input(\"Bienvenid@! \\nIngresa tres cadenas y un carácter, para obtener las cadenas que no contienen tal carácter. \\nDigita tu primera cadena: \"))\n",
    "    b = str(input(\"Digita tu segunda cadena: \"))\n",
    "    c = str(input(\"Digita tu tercera cadena: \"))\n",
    "    d = str(input(\"Digita el carácter: \"))\n",
    "# Asignamos listas para: las cadenas, el carácter y el lugar donde vamos a guardar las cadenas que no contengan el carácter\n",
    "    Cadenas = ([a, b, c])\n",
    "    Caracter = ([d])\n",
    "    Lista = ([])\n",
    "# Utilizamos la sentencia for para recorrer la lista\n",
    "    for cadena in Cadenas:\n",
    "# De nuevo for, pero ahora para recorrer cada caracter\n",
    "        for caracter in cadena:\n",
    "# Ahora en caso de que entre las cadenas que el usuario ingreso haya un carácter que coincida con la lista \"Cadena\"\n",
    "# Vamos a agregar la cadena que contiene dicho carácter a la lista \"Lista\"\n",
    "            if caracter in Caracter:\n",
    "                Lista.append(cadena)\n",
    "            else:\n",
    "                continue\n",
    "# Revisamos que la cadena dentro de la lista \"Lista\" se encuentre dentro de la lista \"Cadenas\"\n",
    "    for cadena in Lista:\n",
    "        if cadena in Cadenas:\n",
    "# En caso de que se encuentre, vamos a remover dicha cadena de la lista de cadenas que el usuario ingreso\n",
    "            Cadenas.remove(cadena)\n",
    "    return Cadenas\n",
    "    \n",
    "NOCARACTER()"
   ]
  }
 ],
 "metadata": {
  "kernelspec": {
   "display_name": "Python 3 (ipykernel)",
   "language": "python",
   "name": "python3"
  },
  "language_info": {
   "codemirror_mode": {
    "name": "ipython",
    "version": 3
   },
   "file_extension": ".py",
   "mimetype": "text/x-python",
   "name": "python",
   "nbconvert_exporter": "python",
   "pygments_lexer": "ipython3",
   "version": "3.10.6"
  }
 },
 "nbformat": 4,
 "nbformat_minor": 5
}
