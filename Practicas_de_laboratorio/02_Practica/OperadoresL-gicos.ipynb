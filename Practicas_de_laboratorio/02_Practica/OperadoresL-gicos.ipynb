{
 "cells": [
  {
   "cell_type": "markdown",
   "metadata": {
    "id": "wVObPes8BhMf"
   },
   "source": [
    "# Estructuras Discretas 2023-1\n",
    "## Práctica 2: Operadores lógicos \n",
    "\n",
    "Víctor Germán Mijangos de la Cruz: vmijangosc@ciencias.unam.mx\n",
    "\n",
    "Teresa Becerril Torres: terebece1508@ciencias.unam.mx\n",
    "\n",
    "**Integrantes del equipo:**\n",
    "\n",
    "* Nombre completo integrante 1\n",
    "* Nombre completo integrante 2\n",
    "\n",
    "## 1. Operadores simples"
   ]
  },
  {
   "cell_type": "code",
   "execution_count": 1,
   "metadata": {
    "id": "YunRsLo5B1WQ"
   },
   "outputs": [],
   "source": [
    "# Negación (¬)\n",
    "def NOT(p):\n",
    "    return not p"
   ]
  },
  {
   "cell_type": "code",
   "execution_count": 2,
   "metadata": {
    "colab": {
     "base_uri": "https://localhost:8080/"
    },
    "id": "CPGjcn2RCD6B",
    "outputId": "9134abb8-0aca-4a53-da2e-97c10b8db2ef"
   },
   "outputs": [
    {
     "name": "stdout",
     "output_type": "stream",
     "text": [
      "Tabla de verdad:\n",
      "\n",
      "p\t¬p\n",
      "True\tFalse\n",
      "False\tTrue\n"
     ]
    }
   ],
   "source": [
    "# Imprimir tabla de verdad de la negación\n",
    "print(\"Tabla de verdad:\\n\")\n",
    "print(\"p\\t¬p\")\n",
    "for p in [True, False]:\n",
    "    print('{}\\t{}'.format(p, NOT(p)))"
   ]
  },
  {
   "cell_type": "code",
   "execution_count": 3,
   "metadata": {
    "id": "m7UXkIGNDFSF"
   },
   "outputs": [],
   "source": [
    "# Conjunción (∧)\n",
    "def AND(p, q):\n",
    "    return p and q"
   ]
  },
  {
   "cell_type": "code",
   "execution_count": 5,
   "metadata": {
    "colab": {
     "base_uri": "https://localhost:8080/"
    },
    "id": "QniCe6c3DFsU",
    "outputId": "c0dcae8a-86dd-4b3b-b8a7-df739bdf6661"
   },
   "outputs": [
    {
     "name": "stdout",
     "output_type": "stream",
     "text": [
      "Tabla de verdad:\n",
      "\n",
      "p\tq\tp ∧ q\n",
      "True\tTrue\tTrue\n",
      "True\tFalse\tFalse\n",
      "False\tTrue\tFalse\n",
      "False\tFalse\tFalse\n"
     ]
    }
   ],
   "source": [
    "# Imprimir tabla de verdad de la conjunción\n",
    "print(\"Tabla de verdad:\\n\")\n",
    "print(\"p\\tq\\tp ∧ q\")\n",
    "for p in [True, False]:\n",
    "    for q in [True, False]:\n",
    "        print('{}\\t{}\\t{}'.format(p, q, AND(p, q)))"
   ]
  },
  {
   "cell_type": "code",
   "execution_count": 7,
   "metadata": {
    "id": "LK9Sd1rmDFva"
   },
   "outputs": [],
   "source": [
    "# Disyunción (∨)\n",
    "def OR(p, q):\n",
    "    return p or q"
   ]
  },
  {
   "cell_type": "code",
   "execution_count": 8,
   "metadata": {
    "colab": {
     "base_uri": "https://localhost:8080/"
    },
    "id": "kbJmuEVjDF1N",
    "outputId": "5d067049-fa5d-49e0-cbb4-43bc2b1e46cf"
   },
   "outputs": [
    {
     "name": "stdout",
     "output_type": "stream",
     "text": [
      "Tabla de verdad:\n",
      "\n",
      "p\tq\tp ∨ q\n",
      "True\tTrue\tTrue\n",
      "True\tFalse\tTrue\n",
      "False\tTrue\tTrue\n",
      "False\tFalse\tFalse\n"
     ]
    }
   ],
   "source": [
    "# Imprimir tabla de verdad de la disyunción\n",
    "print(\"Tabla de verdad:\\n\")\n",
    "print('p\\tq\\tp ∨ q')\n",
    "for p in [True, False]:\n",
    "    for q in [True, False]:\n",
    "        print(\"{}\\t{}\\t{}\".format(p, q, OR(p,q)))"
   ]
  },
  {
   "cell_type": "code",
   "execution_count": 9,
   "metadata": {
    "id": "Iamuutd1FXJl"
   },
   "outputs": [],
   "source": [
    "# Implicación (→)\n",
    "def THEN(p, q):\n",
    "    return not p or q"
   ]
  },
  {
   "cell_type": "code",
   "execution_count": 10,
   "metadata": {
    "colab": {
     "base_uri": "https://localhost:8080/"
    },
    "id": "t663vsQkFXPU",
    "outputId": "83ee9816-ed4f-495b-a767-33ff4218316d"
   },
   "outputs": [
    {
     "name": "stdout",
     "output_type": "stream",
     "text": [
      "Tabla de verdad:\n",
      "\n",
      "p\tq\tp → q\n",
      "True\tTrue\tTrue\n",
      "True\tFalse\tFalse\n",
      "False\tTrue\tTrue\n",
      "False\tFalse\tTrue\n"
     ]
    }
   ],
   "source": [
    "# Imprimir tabla de verdad de la implicación\n",
    "print(\"Tabla de verdad:\\n\")\n",
    "print(\"p\\tq\\tp → q\")\n",
    "for p in [True, False]:\n",
    "    for q in [True, False]:\n",
    "        print(\"{}\\t{}\\t{}\".format(p, q, THEN(p,q)))"
   ]
  },
  {
   "cell_type": "markdown",
   "metadata": {
    "id": "cOytXgWqGKhW"
   },
   "source": [
    "## 2. Operadores compuestos"
   ]
  },
  {
   "cell_type": "code",
   "execution_count": 11,
   "metadata": {
    "id": "OtdyPVFtFXVq"
   },
   "outputs": [],
   "source": [
    "# Equivalencia (<->)\n",
    "def IFF(p, q):\n",
    "    return AND(THEN(p, q), THEN(q, p)) "
   ]
  },
  {
   "cell_type": "code",
   "execution_count": 12,
   "metadata": {
    "colab": {
     "base_uri": "https://localhost:8080/"
    },
    "id": "UzCgmZ0qGnkK",
    "outputId": "88f79601-f81a-46e3-af04-57d8b8945643"
   },
   "outputs": [
    {
     "name": "stdout",
     "output_type": "stream",
     "text": [
      "Tabla de verdad:\n",
      "\n",
      "p\tq\tp <-> q\n",
      "True\tTrue\tTrue\n",
      "True\tFalse\tFalse\n",
      "False\tTrue\tFalse\n",
      "False\tFalse\tTrue\n"
     ]
    }
   ],
   "source": [
    "# Imprimir tabla de verdad de la equivalencia\n",
    "print(\"Tabla de verdad:\\n\")\n",
    "print(\"p\\tq\\tp <-> q\")\n",
    "for p in [True, False]:\n",
    "    for q in [True, False]:\n",
    "        print(\"{}\\t{}\\t{}\".format(p, q, IFF(p,q)))"
   ]
  },
  {
   "cell_type": "code",
   "execution_count": 14,
   "metadata": {
    "id": "LLKqC8DaHdpp"
   },
   "outputs": [],
   "source": [
    "# Disyunción exclusiva (XOR)\n",
    "def XOR(p, q):\n",
    "    return AND(NOT(AND(p, q)), OR(p,q))"
   ]
  },
  {
   "cell_type": "code",
   "execution_count": 15,
   "metadata": {
    "colab": {
     "base_uri": "https://localhost:8080/"
    },
    "id": "q3zAUE9hHd28",
    "outputId": "e4056509-7d00-4a45-ca1b-36243afd27f7"
   },
   "outputs": [
    {
     "name": "stdout",
     "output_type": "stream",
     "text": [
      "Tabla de verdad:\n",
      "\n",
      "p\tq\tp XOR q\n",
      "True\tTrue\tFalse\n",
      "True\tFalse\tTrue\n",
      "False\tTrue\tTrue\n",
      "False\tFalse\tFalse\n"
     ]
    }
   ],
   "source": [
    "# Imprimir tabla de verdad de la disyunción exclusiva\n",
    "print(\"Tabla de verdad:\\n\")\n",
    "print(\"p\\tq\\tp XOR q\")\n",
    "for p in [True, False]:\n",
    "    for q in [True, False]:\n",
    "        print(\"{}\\t{}\\t{}\".format(p, q, XOR(p,q)))"
   ]
  },
  {
   "cell_type": "code",
   "execution_count": 17,
   "metadata": {
    "id": "CE73RzzUJGS_"
   },
   "outputs": [],
   "source": [
    "# Negación de la conjunción (NAND)\n",
    "def NAND(p, q):\n",
    "  return NOT(AND(p, q))"
   ]
  },
  {
   "cell_type": "code",
   "execution_count": 18,
   "metadata": {
    "colab": {
     "base_uri": "https://localhost:8080/"
    },
    "id": "QY-f6MQ9JGdW",
    "outputId": "b2ad37c1-022c-43d2-b03c-de96f0b98b1c"
   },
   "outputs": [
    {
     "name": "stdout",
     "output_type": "stream",
     "text": [
      "Tabla de verdad:\n",
      "\n",
      "p\tq\tp NAD q\n",
      "True\tTrue\tFalse\n",
      "True\tFalse\tTrue\n",
      "False\tTrue\tTrue\n",
      "False\tFalse\tTrue\n"
     ]
    }
   ],
   "source": [
    "print(\"Tabla de verdad:\\n\")\n",
    "print(\"p\\tq\\tp NAD q\")\n",
    "for p in [True, False]:\n",
    "    for q in [True, False]:\n",
    "        print(\"{}\\t{}\\t{}\".format(p, q, NAND(p,q)))"
   ]
  },
  {
   "cell_type": "code",
   "execution_count": 20,
   "metadata": {
    "id": "BsvzXi4tL87T"
   },
   "outputs": [],
   "source": [
    "# Negación de la disyunción (NOR)\n",
    "def NOR(p, q):\n",
    "    return NOT(OR(p,q))"
   ]
  },
  {
   "cell_type": "code",
   "execution_count": 21,
   "metadata": {
    "colab": {
     "base_uri": "https://localhost:8080/"
    },
    "id": "RxUeZJBOL9EJ",
    "outputId": "235d128e-dc03-4f82-d01f-2d0dc8b93d8b"
   },
   "outputs": [
    {
     "name": "stdout",
     "output_type": "stream",
     "text": [
      "Tabla de verdad:\n",
      "\n",
      "p\tq\tp NAD q\n",
      "True\tTrue\tFalse\n",
      "True\tFalse\tFalse\n",
      "False\tTrue\tFalse\n",
      "False\tFalse\tTrue\n"
     ]
    }
   ],
   "source": [
    "print(\"Tabla de verdad:\\n\")\n",
    "print(\"p\\tq\\tp NAD q\")\n",
    "for p in [True, False]:\n",
    "    for q in [True, False]:\n",
    "        print(\"{}\\t{}\\t{}\".format(p, q, NOR(p,q)))"
   ]
  },
  {
   "cell_type": "markdown",
   "metadata": {
    "id": "jKIcJG2CXVC5"
   },
   "source": [
    "## 3. Ejercicios\n",
    "\n",
    "Para cada uno de los siguientes proposiciones, imprimir la tabla de verdad utilizando las funciones de las secciones anteriores:\n",
    "\n",
    "**Ejemplo:**"
   ]
  },
  {
   "cell_type": "code",
   "execution_count": 60,
   "metadata": {
    "colab": {
     "base_uri": "https://localhost:8080/"
    },
    "id": "wht17G4MdtFk",
    "outputId": "bc3fbee3-4c20-4f0a-acee-3bbfe2f53b57"
   },
   "outputs": [
    {
     "name": "stdout",
     "output_type": "stream",
     "text": [
      "Tabla de verdad:\n",
      "\n",
      "p\tq\tr\t(p → q) ∨ r\n",
      "True\tTrue\tTrue\tTrue\n",
      "True\tTrue\tFalse\tTrue\n",
      "True\tFalse\tTrue\tTrue\n",
      "True\tFalse\tFalse\tFalse\n",
      "False\tTrue\tTrue\tTrue\n",
      "False\tTrue\tFalse\tTrue\n",
      "False\tFalse\tTrue\tTrue\n",
      "False\tFalse\tFalse\tTrue\n"
     ]
    }
   ],
   "source": [
    "# Tabla de verdad de la proposición: (p → q) ∨ r\n",
    "\n",
    "print(\"Tabla de verdad:\\n\")\n",
    "print(\"p\\tq\\tr\\t(p → q) ∨ r\")\n",
    "for p in [True, False]:\n",
    "    for q in [True, False]:\n",
    "      for r in [True, False]:\n",
    "          prop = OR(THEN(p, q), r) \n",
    "          print(\"{}\\t{}\\t{}\\t{}\".format(p, q, r, prop))"
   ]
  },
  {
   "cell_type": "markdown",
   "metadata": {
    "id": "SA3oSZuJXlSf"
   },
   "source": [
    "1.- ¬(p ∧ q) <-> r"
   ]
  },
  {
   "cell_type": "code",
   "execution_count": 23,
   "metadata": {
    "colab": {
     "base_uri": "https://localhost:8080/"
    },
    "id": "l6Xc0Q9gXlSg",
    "outputId": "76a20eb0-65db-4345-eea1-fd45bfd03ca2"
   },
   "outputs": [
    {
     "name": "stdout",
     "output_type": "stream",
     "text": [
      "Tabla de verdad:\n",
      "\n",
      "p\tq\tr\t¬(p ∧ q) <-> r\n"
     ]
    }
   ],
   "source": [
    "# Tabla de verdad de la proposición: ¬(p ∧ q) <-> r\n",
    "\n",
    "print(\"Tabla de verdad:\\n\")\n",
    "print(\"p\\tq\\tr\\t¬(p ∧ q) <-> r\")\n",
    "# Utilizar el formato del ejemplo para escribir la proposición e imprimir la tabla \n",
    "# de verdad."
   ]
  },
  {
   "cell_type": "markdown",
   "metadata": {
    "id": "6nVsHVrEXlxS"
   },
   "source": [
    "2.- (p → q) ∧ ¬(r v ¬ s)"
   ]
  },
  {
   "cell_type": "code",
   "execution_count": 26,
   "metadata": {
    "colab": {
     "base_uri": "https://localhost:8080/"
    },
    "id": "Ajwr33s4XlxT",
    "outputId": "31f2b484-26bf-42b9-e861-16c2e457088c"
   },
   "outputs": [
    {
     "name": "stdout",
     "output_type": "stream",
     "text": [
      "Tabla de verdad:\n",
      "\n",
      "p\tq\tr\ts\t(p → q) ∧ ¬(r v ¬ s)\n"
     ]
    }
   ],
   "source": [
    "# Tabla de verdad de la proposición: (p → q) ∧ ¬(r v ¬ s)  \n",
    "\n",
    "print(\"Tabla de verdad:\\n\")\n",
    "print(\"p\\tq\\tr\\ts\\t(p → q) ∧ ¬(r v ¬ s)\")\n",
    "# Utilizar el formato del ejemplo para escribir la proposición e imprimir la tabla \n",
    "# de verdad."
   ]
  },
  {
   "cell_type": "markdown",
   "metadata": {
    "id": "MLnmFURY6Y2n"
   },
   "source": [
    "3.- ¬(p ∧ r) → q"
   ]
  },
  {
   "cell_type": "code",
   "execution_count": 28,
   "metadata": {
    "colab": {
     "base_uri": "https://localhost:8080/"
    },
    "id": "4ekl_VKNDIUL",
    "outputId": "f228abeb-33ae-4b0f-bd02-701711c82c09"
   },
   "outputs": [
    {
     "name": "stdout",
     "output_type": "stream",
     "text": [
      "Tabla de verdad:\n",
      "\n",
      "p\tq\tr\t¬(p ∧ r) → q\n"
     ]
    }
   ],
   "source": [
    "# Tabla de verdad de la proposición: ¬(p ∧ r) → q\n",
    "\n",
    "print(\"Tabla de verdad:\\n\")\n",
    "print(\"p\\tq\\tr\\t¬(p ∧ r) → q\")\n",
    "# Utilizar el formato del ejemplo para escribir la proposición e imprimir la tabla \n",
    "# de verdad."
   ]
  },
  {
   "cell_type": "markdown",
   "metadata": {
    "id": "C3gOB5Y86eBF"
   },
   "source": [
    "4.- ¬p <-> q XOR (r → ¬s)"
   ]
  },
  {
   "cell_type": "code",
   "execution_count": 32,
   "metadata": {
    "colab": {
     "base_uri": "https://localhost:8080/"
    },
    "id": "qq9AI2Fr6eBG",
    "outputId": "d8ffced5-6570-4d4e-ecd5-918dcfb05a9c"
   },
   "outputs": [
    {
     "name": "stdout",
     "output_type": "stream",
     "text": [
      "Tabla de verdad:\n",
      "\n",
      "p\tq\tr\ts\t¬p <-> q XOR (r → ¬s)\n"
     ]
    }
   ],
   "source": [
    "# Tabla de verdad de la proposición: ¬p <-> q XOR (r → ¬s)\n",
    "\n",
    "print(\"Tabla de verdad:\\n\")\n",
    "print(\"p\\tq\\tr\\ts\\t¬p <-> q XOR (r → ¬s)\")\n",
    "# Utilizar el formato del ejemplo para escribir la proposición e imprimir la tabla \n",
    "# de verdad."
   ]
  },
  {
   "cell_type": "markdown",
   "metadata": {
    "id": "ifmue7U3Xgym"
   },
   "source": [
    "Para cada uno de los siguientes enunciados, asigne variables proposicionales, escriba la fómula e imprima la tabla de verdad utilizando las funciones de las secciones anteriores:\n",
    "\n",
    "1.- Si el anuncio tiene éxito, toda la producción se va a vender y el dueño se volverá rico; pero si el anuncio no tiene éxito, la inversión se habrá perdido.\n",
    "\n",
    "p = el anuncio tiene éxito\n",
    "\n",
    "q = la producción se va a vender\n",
    "\n",
    "r = el dueño se volverá rico\n",
    "\n",
    "s = la inversión se habrá perdido\n",
    "\n",
    "(p → (q ∧ r)) XOR (¬p → s)"
   ]
  },
  {
   "cell_type": "code",
   "execution_count": 22,
   "metadata": {
    "colab": {
     "base_uri": "https://localhost:8080/"
    },
    "id": "RMqyqZPhXbsi",
    "outputId": "4584967b-7674-4de7-fee1-dba8735bb2c6"
   },
   "outputs": [
    {
     "name": "stdout",
     "output_type": "stream",
     "text": [
      "Tabla de verdad:\n",
      "\n"
     ]
    }
   ],
   "source": [
    "# Tabla de verdad de la proposición: proposicion (Escribir proposición con los símbolos\n",
    "# que se han utilizado en las secciones anteriores)\n",
    "\n",
    "print(\"Tabla de verdad:\\n\")\n",
    "# Utilizar el formato del ejemplo para escribir la proposición e imprimir la tabla \n",
    "# de verdad."
   ]
  },
  {
   "cell_type": "markdown",
   "metadata": {
    "id": "rxQKKGR1XliJ"
   },
   "source": [
    "2.- Prefiero ir de vacaciones o descansar si tengo tiempo para ello y no tengo que ir a trabajar. "
   ]
  },
  {
   "cell_type": "code",
   "execution_count": 25,
   "metadata": {
    "colab": {
     "base_uri": "https://localhost:8080/"
    },
    "id": "ztC1iQ_qXliK",
    "outputId": "fa74fe8d-a31a-4b1d-ca93-fa6d8366ec14"
   },
   "outputs": [
    {
     "name": "stdout",
     "output_type": "stream",
     "text": [
      "Tabla de verdad:\n",
      "\n"
     ]
    }
   ],
   "source": [
    "# Tabla de verdad de la proposición: proposicion (Escribir proposición con los símbolos\n",
    "# que se han utilizado en las secciones anteriores)\n",
    "\n",
    "print(\"Tabla de verdad:\\n\")\n",
    "# Utilizar el formato del ejemplo para escribir la proposición e imprimir la tabla \n",
    "# de verdad."
   ]
  },
  {
   "cell_type": "markdown",
   "metadata": {
    "id": "joPBswRIXmMg"
   },
   "source": [
    "3.- Lavas tu ropa o haces tu tarea pero sin ver la televisión, te doy de comer y te dejo ver la televisión."
   ]
  },
  {
   "cell_type": "code",
   "execution_count": 27,
   "metadata": {
    "colab": {
     "base_uri": "https://localhost:8080/"
    },
    "id": "Hnd2fDbTXmMh",
    "outputId": "20cb1691-7a3f-41bd-c88a-2be454f6e8fe"
   },
   "outputs": [
    {
     "name": "stdout",
     "output_type": "stream",
     "text": [
      "Tabla de verdad:\n",
      "\n"
     ]
    }
   ],
   "source": [
    "# Tabla de verdad de la proposición: proposicion (Escribir proposición con los símbolos\n",
    "# que se han utilizado en las secciones anteriores)\n",
    "\n",
    "print(\"Tabla de verdad:\\n\")\n",
    "# Utilizar el formato del ejemplo para escribir la proposición e imprimir la tabla \n",
    "# de verdad."
   ]
  },
  {
   "cell_type": "markdown",
   "metadata": {
    "id": "A2cq7M5Z6Xsi"
   },
   "source": [
    "4.- Si encuentro mi libro entonces mañana se lo presto a María o se lo presto a José."
   ]
  },
  {
   "cell_type": "code",
   "execution_count": 31,
   "metadata": {
    "colab": {
     "base_uri": "https://localhost:8080/"
    },
    "id": "4M7g8nbb6X6D",
    "outputId": "a34c17d2-0209-4daf-9b09-853ecd50f1e1",
    "scrolled": true
   },
   "outputs": [
    {
     "name": "stdout",
     "output_type": "stream",
     "text": [
      "Tabla de verdad:\n",
      "\n"
     ]
    }
   ],
   "source": [
    "# Tabla de verdad de la proposición: proposicion (Escribir proposición con los símbolos\n",
    "# que se han utilizado en las secciones anteriores)\n",
    "\n",
    "print(\"Tabla de verdad:\\n\")\n",
    "# Utilizar el formato del ejemplo para escribir la proposición e imprimir la tabla \n",
    "# de verdad."
   ]
  },
  {
   "cell_type": "markdown",
   "metadata": {
    "id": "t19W2AEY6nKN"
   },
   "source": [
    "## 4. Instalar Logisim \n",
    "\n",
    "Ingresar a la página http://www.cburch.com/logisim/download.html y descargar Logisim, para poder abrir y utilizar la aplicación es necesario tener instalado Java, para ello deben ingresar a la página https://www.java.com/es/download/ y descargar la última versión disponible o la versión que prefieran.\n",
    "\n",
    "* Para los que tengan Windows deberán instalar el archivo .exe\n",
    "* Para los que tengan Linux es posible que se pueda instalar desde una herramienta de administración de software (yum, dnf, apt-get, apt, etc.) o la tienda de aplicaciones del Sistema Operativo\n",
    "* Para los que tengan mac deberán instalar el archivo .tar.gz y descomprimir el archivo, es posible que al tratar de abrir la aplicación se cierre inesperadamente, por lo que deberan de abrir el contenido del paquete, entrar al directorio Logisim/Contents/Resources/Java y ejecutar el archivo logisim.jar. Si tienen alguna duda consultar https://youtu.be/AOIpaShIok8\n",
    "\n",
    "Esta aplicación la vamos a utilizar en la práctica 3 pero es necesario que la lleven ya instalada para la clase de laboratorio del 23 de Septiembre de 2022.\n"
   ]
  }
 ],
 "metadata": {
  "colab": {
   "provenance": []
  },
  "kernelspec": {
   "display_name": "Python 3 (ipykernel)",
   "language": "python",
   "name": "python3"
  },
  "language_info": {
   "codemirror_mode": {
    "name": "ipython",
    "version": 3
   },
   "file_extension": ".py",
   "mimetype": "text/x-python",
   "name": "python",
   "nbconvert_exporter": "python",
   "pygments_lexer": "ipython3",
   "version": "3.10.6"
  }
 },
 "nbformat": 4,
 "nbformat_minor": 1
}
